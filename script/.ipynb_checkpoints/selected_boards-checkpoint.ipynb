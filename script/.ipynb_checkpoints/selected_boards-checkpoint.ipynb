{
 "cells": [
  {
   "cell_type": "code",
   "execution_count": 8,
   "id": "60fe42a5-51f5-4296-859b-8fa7ee103314",
   "metadata": {},
   "outputs": [
    {
     "ename": "ModuleNotFoundError",
     "evalue": "No module named 'pandas'",
     "output_type": "error",
     "traceback": [
      "\u001b[0;31m---------------------------------------------------------------------------\u001b[0m",
      "\u001b[0;31mModuleNotFoundError\u001b[0m                       Traceback (most recent call last)",
      "Cell \u001b[0;32mIn[8], line 1\u001b[0m\n\u001b[0;32m----> 1\u001b[0m \u001b[38;5;28;01mimport\u001b[39;00m \u001b[38;5;21;01mpandas\u001b[39;00m \u001b[38;5;28;01mas\u001b[39;00m \u001b[38;5;21;01mpd\u001b[39;00m\n\u001b[1;32m      2\u001b[0m \u001b[38;5;28;01mimport\u001b[39;00m \u001b[38;5;21;01mmatplotlib\u001b[39;00m\u001b[38;5;21;01m.\u001b[39;00m\u001b[38;5;21;01mpyplot\u001b[39;00m \u001b[38;5;28;01mas\u001b[39;00m \u001b[38;5;21;01mplt\u001b[39;00m\n\u001b[1;32m      3\u001b[0m \u001b[38;5;28;01mimport\u001b[39;00m \u001b[38;5;21;01mmatplotlib\u001b[39;00m\u001b[38;5;21;01m.\u001b[39;00m\u001b[38;5;21;01mpatches\u001b[39;00m \u001b[38;5;28;01mas\u001b[39;00m \u001b[38;5;21;01mmpatches\u001b[39;00m\n",
      "\u001b[0;31mModuleNotFoundError\u001b[0m: No module named 'pandas'"
     ]
    }
   ],
   "source": [
    "import pandas as pd\n",
    "import matplotlib.pyplot as plt\n",
    "import matplotlib.patches as mpatches\n",
    "\n",
    "# Load the CSV files into DataFrames\n",
    "df = pd.read_csv('../data/mobileNet_224/1_0/standard/mobilenet_v1_1.0_224_tfs_MCU.csv', delimiter=',')\n",
    "dfMPU = pd.read_csv('../data/mobileNet_224/1_0/standard/mobilenet_v1_1.0_224_tfs_MPU.csv', delimiter=',')\n",
    "\n",
    "# Desired boards for each DataFrame\n",
    "desired_auto_retrieved = df['board'].unique()\n",
    "\n",
    "# Filter for only the desired boards\n",
    "df = df[df['board'].isin(desired_auto_retrieved)]\n",
    "\n",
    "df = df.dropna(subset=['optimization'])\n",
    "\n",
    "dfMPU = dfMPU.dropna(subset=['duration_ms'])\n",
    "\n",
    "dfMPU.sort_values(by='duration_ms')\n",
    "desired_auto_retrieved_MPU = dfMPU['board'].unique()\n",
    "\n",
    "# Filter for rows where optimization is 'time', 'balanced', and 'ram'\n",
    "time_optimization_df = df[df['optimization'] == 'time']\n",
    "bal_optimization_df = df[df['optimization'] == 'balanced']\n",
    "ram_optimization_df = df[df['optimization'] == 'ram']\n",
    "\n",
    "# Ensure that data is sorted by board\n",
    "time_optimization_df = time_optimization_df.sort_values(by='board')\n",
    "bal_optimization_df = bal_optimization_df.sort_values(by='board')\n",
    "ram_optimization_df = ram_optimization_df.sort_values(by='board')\n",
    "\n",
    "# Create subplots\n",
    "fig, (ax1, ax2) = plt.subplots(1, 2, figsize=(16, 8), sharey=False)\n",
    "\n",
    "# Plot the data from df on the first subplot\n",
    "for board in desired_auto_retrieved:\n",
    "    board_time_data = time_optimization_df[time_optimization_df['board'] == board]\n",
    "    board_bal_data = bal_optimization_df[bal_optimization_df['board'] == board]\n",
    "    board_ram_data = ram_optimization_df[ram_optimization_df['board'] == board]\n",
    "    \n",
    "    # Plot time optimization with brighter color and larger dots\n",
    "    ax1.scatter([board] * len(board_time_data), board_time_data['duration_ms'], label=None, color='dodgerblue', alpha=0.8, s=100)\n",
    "    # Plot balanced optimization with natural color and larger dots\n",
    "    ax1.scatter([board] * len(board_bal_data), board_bal_data['duration_ms'], label=None, color='limegreen', alpha=0.6, s=100)\n",
    "    # Plot ram optimization with darker color and larger dots\n",
    "    ax1.scatter([board] * len(board_ram_data), board_ram_data['duration_ms'], label=None, color='darkorange', alpha=0.6, s=100)\n",
    "\n",
    "# Plot the data from dfMPU on the second subplot\n",
    "for board in dfMPU['board']:\n",
    "    board_data = dfMPU[dfMPU['board'] == board]\n",
    "    ax2.scatter([board] * len(board_data), board_data['duration_ms'], label=None, color='black', alpha=0.8, s=100)\n",
    "\n",
    "# Create custom legend patches\n",
    "time_patch = mpatches.Patch(color='dodgerblue', label='Time Optimization')\n",
    "bal_patch = mpatches.Patch(color='limegreen', label='Balanced Optimization')\n",
    "ram_patch = mpatches.Patch(color='darkorange', label='RAM Optimization')\n",
    "mpu_patch = mpatches.Patch(color='black', label='MPU Data')\n",
    "\n",
    "# Add legends\n",
    "ax1.legend(handles=[time_patch, bal_patch, ram_patch], title='Optimization Type')\n",
    "ax2.legend(handles=[mpu_patch], title='MPU Data')\n",
    "\n",
    "# Customize the plots\n",
    "ax1.set_title('MCU Duration (ms) by Optimization and Board')\n",
    "ax1.set_xlabel('Board')\n",
    "ax1.set_ylabel('Duration (ms)')\n",
    "ax1.set_xticks(range(len(desired_auto_retrieved)))\n",
    "ax1.set_xticklabels(desired_auto_retrieved, rotation=45, ha='right')\n",
    "ax1.grid(True)\n",
    "\n",
    "ax2.set_title('MPU Duration (ms) by Board')\n",
    "ax2.set_xlabel('Board')\n",
    "ax2.set_xticks(range(len(desired_auto_retrieved_MPU)))\n",
    "ax2.set_xticklabels(desired_auto_retrieved_MPU, rotation=45, ha='right')\n",
    "ax2.grid(True)\n",
    "\n",
    "\n",
    "plt.tight_layout()  # Adjust layout to fit x-axis labels\n",
    "plt.show()"
   ]
  },
  {
   "cell_type": "code",
   "execution_count": null,
   "id": "8ff677c6-d210-49d3-8c31-58017e591898",
   "metadata": {},
   "outputs": [
    {
     "ename": "NameError",
     "evalue": "name 'desired_auto_retrieved_MPU' is not defined",
     "output_type": "error",
     "traceback": [
      "\u001b[0;31m---------------------------------------------------------------------------\u001b[0m",
      "\u001b[0;31mNameError\u001b[0m                                 Traceback (most recent call last)",
      "Cell \u001b[0;32mIn[4], line 1\u001b[0m\n\u001b[0;32m----> 1\u001b[0m \u001b[38;5;28mprint\u001b[39m(\u001b[43mdesired_auto_retrieved_MPU\u001b[49m)\n",
      "\u001b[0;31mNameError\u001b[0m: name 'desired_auto_retrieved_MPU' is not defined"
     ]
    }
   ],
   "source": [
    "print(desired_auto_retrieved_MPU)"
   ]
  }
 ],
 "metadata": {
  "kernelspec": {
   "display_name": "Python 3 (ipykernel)",
   "language": "python",
   "name": "python3"
  },
  "language_info": {
   "codemirror_mode": {
    "name": "ipython",
    "version": 3
   },
   "file_extension": ".py",
   "mimetype": "text/x-python",
   "name": "python",
   "nbconvert_exporter": "python",
   "pygments_lexer": "ipython3",
   "version": "3.11.7"
  }
 },
 "nbformat": 4,
 "nbformat_minor": 5
}
